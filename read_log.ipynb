{
 "cells": [
  {
   "cell_type": "code",
   "execution_count": null,
   "id": "e2df829c-32c9-48df-a8b2-2f0603efcc2d",
   "metadata": {
    "tags": []
   },
   "outputs": [],
   "source": [
    "import numpy as np\n",
    "import pandas as pd\n",
    "import matplotlib.pyplot as plt"
   ]
  },
  {
   "cell_type": "code",
   "execution_count": null,
   "id": "6dd8ec91-5d70-4b7f-ba34-27d571e24d01",
   "metadata": {
    "tags": []
   },
   "outputs": [],
   "source": [
    "df = pd.read_csv('log.txt')\n",
    "\n",
    "plt.scatter(df['iter'], df['loss'], s=0.5)\n",
    "plt.show()\n",
    "\n",
    "plt.plot(np.convolve(df['loss'], np.ones(100), mode='valid'))\n",
    "plt.show()"
   ]
  },
  {
   "cell_type": "code",
   "execution_count": null,
   "id": "35814e2f-3c13-4b3c-8eb5-f92892a12b34",
   "metadata": {},
   "outputs": [],
   "source": []
  }
 ],
 "metadata": {
  "kernelspec": {
   "display_name": "Python 3 (ipykernel)",
   "language": "python",
   "name": "python3"
  },
  "language_info": {
   "codemirror_mode": {
    "name": "ipython",
    "version": 3
   },
   "file_extension": ".py",
   "mimetype": "text/x-python",
   "name": "python",
   "nbconvert_exporter": "python",
   "pygments_lexer": "ipython3",
   "version": "3.8.16"
  }
 },
 "nbformat": 4,
 "nbformat_minor": 5
}
